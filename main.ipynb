{
 "cells": [
  {
   "cell_type": "code",
   "execution_count": 20,
   "id": "7f642015",
   "metadata": {},
   "outputs": [],
   "source": [
    "import os\n",
    "from matplotlib import pyplot as plt\n",
    "import tensorflow_io as tfio\n",
    "import tensorflow as tf "
   ]
  },
  {
   "cell_type": "markdown",
   "id": "8096e21f",
   "metadata": {},
   "source": [
    "#### Testing File Paths"
   ]
  },
  {
   "cell_type": "code",
   "execution_count": 21,
   "id": "80dffb36",
   "metadata": {},
   "outputs": [],
   "source": [
    "CAPUCHIN_FILE = os.path.join('data', 'Parsed_Capuchin_Clips', 'XC3776-0.wav')\n",
    "NOT_CAPUCHIN_FILE = os.path.join('data', 'Parsed_Not_Capuchinbird_Clips', 'afternoon-birds-song-in-forest-1.wav')"
   ]
  },
  {
   "cell_type": "code",
   "execution_count": 43,
   "id": "0c432a3c",
   "metadata": {},
   "outputs": [],
   "source": [
    "def load_wav_16k_mono(filename):\n",
    "    file_contents = tf.io.read_file(filename) # get file\n",
    "    wav, sample_rate = tf.audio.decode_wav(file_contents, desired_channels=1) # convert to .wav\n",
    "    wav = tf.squeeze(wav, axis=-1) # Removes trailing axis?\n",
    "    sample_rate = tf.cast(sample_rate, dtype=tf.int64) # convert sample rate to int \n",
    "    wav = tfio.audio.resample(wav, rate_in=sample_rate, rate_out=16000) # compress .wav\n",
    "    return wav"
   ]
  },
  {
   "cell_type": "code",
   "execution_count": 50,
   "id": "0f64bec0",
   "metadata": {},
   "outputs": [
    {
     "data": {
      "text/plain": [
       "'data/Parsed_Not_Capuchinbird_Clips/afternoon-birds-song-in-forest-0.wav'"
      ]
     },
     "execution_count": 50,
     "metadata": {},
     "output_type": "execute_result"
    }
   ],
   "source": [
    "NOT_CAPUCHIN_FILE"
   ]
  },
  {
   "cell_type": "markdown",
   "id": "6dedbea9",
   "metadata": {},
   "source": [
    "### Plot Wave"
   ]
  },
  {
   "cell_type": "code",
   "execution_count": 51,
   "id": "51c6725f",
   "metadata": {},
   "outputs": [],
   "source": [
    "# wave = load_wav_16k_mono(CAPUCHIN_FILE)\n",
    "# nwave = load_wav_16k_mono(NOT_CAPUCHIN_FILE)"
   ]
  }
 ],
 "metadata": {
  "kernelspec": {
   "display_name": "Python 3 (ipykernel)",
   "language": "python",
   "name": "python3"
  },
  "language_info": {
   "codemirror_mode": {
    "name": "ipython",
    "version": 3
   },
   "file_extension": ".py",
   "mimetype": "text/x-python",
   "name": "python",
   "nbconvert_exporter": "python",
   "pygments_lexer": "ipython3",
   "version": "3.10.10"
  }
 },
 "nbformat": 4,
 "nbformat_minor": 5
}
